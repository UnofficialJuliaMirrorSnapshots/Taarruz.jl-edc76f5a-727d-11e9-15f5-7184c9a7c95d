{
 "cells": [
  {
   "cell_type": "markdown",
   "metadata": {},
   "source": [
    "# I-FGSM (Iterative Fast Gradient Sign Method) tutorial\n",
    "This example demonstrates how to apply Iterative FGSM attack to a LeNet network trained on MNIST dataset. See [this](https://arxiv.org/pdf/1611.01236.pdf) paper for far detailed information about the attack."
   ]
  },
  {
   "cell_type": "markdown",
   "metadata": {},
   "source": [
    "## Train LeNet on MNIST"
   ]
  },
  {
   "cell_type": "code",
   "execution_count": 1,
   "metadata": {
    "scrolled": true
   },
   "outputs": [
    {
     "name": "stderr",
     "output_type": "stream",
     "text": [
      "┌ Info: Recompiling stale cache file /kuacc/users/ikesen16/.julia/compiled/v1.1/Taarruz/e70oI.ji for Taarruz [edc76f5a-727d-11e9-15f5-7184c9a7c95d]\n",
      "└ @ Base loading.jl:1184\n"
     ]
    }
   ],
   "source": [
    "using Knet\n",
    "using Taarruz\n",
    "using Images\n",
    "using Plots"
   ]
  },
  {
   "cell_type": "code",
   "execution_count": 2,
   "metadata": {},
   "outputs": [
    {
     "name": "stderr",
     "output_type": "stream",
     "text": [
      "┌ Info: Loading MNIST...\n",
      "└ @ Main /kuacc/users/ikesen16/.julia/packages/Knet/05UDD/data/mnist.jl:33\n"
     ]
    },
    {
     "name": "stdout",
     "output_type": "stream",
     "text": [
      "1.90e-01  100.00%┣██████████████████████████▉┫ 1800/1800 [00:17/00:17, 103.55i/s]\n"
     ]
    },
    {
     "data": {
      "text/plain": [
       "0.9897"
      ]
     },
     "execution_count": 2,
     "metadata": {},
     "output_type": "execute_result"
    }
   ],
   "source": [
    "Knet.seed!(1)\n",
    "include(Knet.dir(\"data\", \"mnist.jl\"))\n",
    "dtrn, dtst = mnistdata()\n",
    "lenet = Lenet()\n",
    "progress!(adam(lenet, repeat(dtrn, 3)))\n",
    "accuracy(lenet, dtst)"
   ]
  },
  {
   "cell_type": "markdown",
   "metadata": {},
   "source": [
    "## Abuse the Model\n",
    "In this part, we measure the accuracy of our model, but we use the examples genearated with FGSM to abuse the model. As you can see, the accuracy drops nearly 50% percentage."
   ]
  },
  {
   "cell_type": "code",
   "execution_count": 58,
   "metadata": {
    "scrolled": true
   },
   "outputs": [
    {
     "data": {
      "text/plain": [
       "0.1687"
      ]
     },
     "execution_count": 58,
     "metadata": {},
     "output_type": "execute_result"
    }
   ],
   "source": [
    "example1(x,y,ϵ=0.2,T=10,f=lenet) = IterativeFGSM(a->f(a,y),ϵ,T,x)[end][1]\n",
    "abuse1(x,y,ϵ=0.2,T=10,f=lenet; o...) = accuracy(f(example1(x,y,ϵ,T,f)), y; o...)\n",
    "abuse1(d::Knet.Data,ϵ=0.2,T=10,f=lenet) = sum(abuse1(x,y,ϵ,T,f; average=false) for (x,y) in d) / d.length\n",
    "abuse1(dtst)"
   ]
  },
  {
   "cell_type": "code",
   "execution_count": null,
   "metadata": {},
   "outputs": [],
   "source": [
    "example2(x,y,ϵ=0.2,μ=0.2,T=10,f=lenet) = MomentumIterativeFGSM(a->f(a,y),ϵ,μ,T,x)[end][1]\n",
    "abuse2(x,y,ϵ=0.2,μ=0.2,T=10,f=lenet; o...) = accuracy(f(example2(x,y,ϵ,μ,T,f)), y; o...)\n",
    "abuse2(d::Knet.Data,ϵ=0.2,μ=0.2,T=10,f=lenet) = sum(abuse2(x,y,ϵ,μ,T,f; average=false) for (x,y) in d) / d.length\n",
    "abuse2(dtst)"
   ]
  },
  {
   "cell_type": "code",
   "execution_count": 56,
   "metadata": {},
   "outputs": [
    {
     "data": {
      "image/svg+xml": [
       "<?xml version=\"1.0\" encoding=\"utf-8\"?>\n",
       "<svg xmlns=\"http://www.w3.org/2000/svg\" xmlns:xlink=\"http://www.w3.org/1999/xlink\" width=\"600\" height=\"400\" viewBox=\"0 0 2400 1600\">\n",
       "<defs>\n",
       "  <clipPath id=\"clip3200\">\n",
       "    <rect x=\"0\" y=\"0\" width=\"2400\" height=\"1600\"/>\n",
       "  </clipPath>\n",
       "</defs>\n",
       "<polygon clip-path=\"url(#clip3200)\" points=\"\n",
       "0,1600 2400,1600 2400,0 0,0 \n",
       "  \" fill=\"#ffffff\" fill-rule=\"evenodd\" fill-opacity=\"1\"/>\n",
       "<defs>\n",
       "  <clipPath id=\"clip3201\">\n",
       "    <rect x=\"480\" y=\"0\" width=\"1681\" height=\"1600\"/>\n",
       "  </clipPath>\n",
       "</defs>\n",
       "<polygon clip-path=\"url(#clip3200)\" points=\"\n",
       "202.373,1425.62 2352.76,1425.62 2352.76,47.2441 202.373,47.2441 \n",
       "  \" fill=\"#ffffff\" fill-rule=\"evenodd\" fill-opacity=\"1\"/>\n",
       "<defs>\n",
       "  <clipPath id=\"clip3202\">\n",
       "    <rect x=\"202\" y=\"47\" width=\"2151\" height=\"1379\"/>\n",
       "  </clipPath>\n",
       "</defs>\n",
       "<polyline clip-path=\"url(#clip3202)\" style=\"stroke:#000000; stroke-width:2; stroke-opacity:0.1; fill:none\" points=\"\n",
       "  488.64,1425.62 488.64,47.2441 \n",
       "  \"/>\n",
       "<polyline clip-path=\"url(#clip3202)\" style=\"stroke:#000000; stroke-width:2; stroke-opacity:0.1; fill:none\" points=\"\n",
       "  939.454,1425.62 939.454,47.2441 \n",
       "  \"/>\n",
       "<polyline clip-path=\"url(#clip3202)\" style=\"stroke:#000000; stroke-width:2; stroke-opacity:0.1; fill:none\" points=\"\n",
       "  1390.27,1425.62 1390.27,47.2441 \n",
       "  \"/>\n",
       "<polyline clip-path=\"url(#clip3202)\" style=\"stroke:#000000; stroke-width:2; stroke-opacity:0.1; fill:none\" points=\"\n",
       "  1841.08,1425.62 1841.08,47.2441 \n",
       "  \"/>\n",
       "<polyline clip-path=\"url(#clip3202)\" style=\"stroke:#000000; stroke-width:2; stroke-opacity:0.1; fill:none\" points=\"\n",
       "  2291.9,1425.62 2291.9,47.2441 \n",
       "  \"/>\n",
       "<polyline clip-path=\"url(#clip3202)\" style=\"stroke:#000000; stroke-width:2; stroke-opacity:0.1; fill:none\" points=\"\n",
       "  202.373,1295.14 2352.76,1295.14 \n",
       "  \"/>\n",
       "<polyline clip-path=\"url(#clip3202)\" style=\"stroke:#000000; stroke-width:2; stroke-opacity:0.1; fill:none\" points=\"\n",
       "  202.373,1033.82 2352.76,1033.82 \n",
       "  \"/>\n",
       "<polyline clip-path=\"url(#clip3202)\" style=\"stroke:#000000; stroke-width:2; stroke-opacity:0.1; fill:none\" points=\"\n",
       "  202.373,772.494 2352.76,772.494 \n",
       "  \"/>\n",
       "<polyline clip-path=\"url(#clip3202)\" style=\"stroke:#000000; stroke-width:2; stroke-opacity:0.1; fill:none\" points=\"\n",
       "  202.373,511.169 2352.76,511.169 \n",
       "  \"/>\n",
       "<polyline clip-path=\"url(#clip3202)\" style=\"stroke:#000000; stroke-width:2; stroke-opacity:0.1; fill:none\" points=\"\n",
       "  202.373,249.844 2352.76,249.844 \n",
       "  \"/>\n",
       "<polyline clip-path=\"url(#clip3200)\" style=\"stroke:#000000; stroke-width:4; stroke-opacity:1; fill:none\" points=\"\n",
       "  202.373,1425.62 2352.76,1425.62 \n",
       "  \"/>\n",
       "<polyline clip-path=\"url(#clip3200)\" style=\"stroke:#000000; stroke-width:4; stroke-opacity:1; fill:none\" points=\"\n",
       "  202.373,1425.62 202.373,47.2441 \n",
       "  \"/>\n",
       "<polyline clip-path=\"url(#clip3200)\" style=\"stroke:#000000; stroke-width:4; stroke-opacity:1; fill:none\" points=\"\n",
       "  488.64,1425.62 488.64,1404.94 \n",
       "  \"/>\n",
       "<polyline clip-path=\"url(#clip3200)\" style=\"stroke:#000000; stroke-width:4; stroke-opacity:1; fill:none\" points=\"\n",
       "  939.454,1425.62 939.454,1404.94 \n",
       "  \"/>\n",
       "<polyline clip-path=\"url(#clip3200)\" style=\"stroke:#000000; stroke-width:4; stroke-opacity:1; fill:none\" points=\"\n",
       "  1390.27,1425.62 1390.27,1404.94 \n",
       "  \"/>\n",
       "<polyline clip-path=\"url(#clip3200)\" style=\"stroke:#000000; stroke-width:4; stroke-opacity:1; fill:none\" points=\"\n",
       "  1841.08,1425.62 1841.08,1404.94 \n",
       "  \"/>\n",
       "<polyline clip-path=\"url(#clip3200)\" style=\"stroke:#000000; stroke-width:4; stroke-opacity:1; fill:none\" points=\"\n",
       "  2291.9,1425.62 2291.9,1404.94 \n",
       "  \"/>\n",
       "<polyline clip-path=\"url(#clip3200)\" style=\"stroke:#000000; stroke-width:4; stroke-opacity:1; fill:none\" points=\"\n",
       "  202.373,1295.14 234.629,1295.14 \n",
       "  \"/>\n",
       "<polyline clip-path=\"url(#clip3200)\" style=\"stroke:#000000; stroke-width:4; stroke-opacity:1; fill:none\" points=\"\n",
       "  202.373,1033.82 234.629,1033.82 \n",
       "  \"/>\n",
       "<polyline clip-path=\"url(#clip3200)\" style=\"stroke:#000000; stroke-width:4; stroke-opacity:1; fill:none\" points=\"\n",
       "  202.373,772.494 234.629,772.494 \n",
       "  \"/>\n",
       "<polyline clip-path=\"url(#clip3200)\" style=\"stroke:#000000; stroke-width:4; stroke-opacity:1; fill:none\" points=\"\n",
       "  202.373,511.169 234.629,511.169 \n",
       "  \"/>\n",
       "<polyline clip-path=\"url(#clip3200)\" style=\"stroke:#000000; stroke-width:4; stroke-opacity:1; fill:none\" points=\"\n",
       "  202.373,249.844 234.629,249.844 \n",
       "  \"/>\n",
       "<g clip-path=\"url(#clip3200)\">\n",
       "<text style=\"fill:#000000; fill-opacity:1; font-family:Arial,Helvetica Neue,Helvetica,sans-serif; font-size:48px; text-anchor:middle;\" transform=\"rotate(0, 488.64, 1479.62)\" x=\"488.64\" y=\"1479.62\">2</text>\n",
       "</g>\n",
       "<g clip-path=\"url(#clip3200)\">\n",
       "<text style=\"fill:#000000; fill-opacity:1; font-family:Arial,Helvetica Neue,Helvetica,sans-serif; font-size:48px; text-anchor:middle;\" transform=\"rotate(0, 939.454, 1479.62)\" x=\"939.454\" y=\"1479.62\">4</text>\n",
       "</g>\n",
       "<g clip-path=\"url(#clip3200)\">\n",
       "<text style=\"fill:#000000; fill-opacity:1; font-family:Arial,Helvetica Neue,Helvetica,sans-serif; font-size:48px; text-anchor:middle;\" transform=\"rotate(0, 1390.27, 1479.62)\" x=\"1390.27\" y=\"1479.62\">6</text>\n",
       "</g>\n",
       "<g clip-path=\"url(#clip3200)\">\n",
       "<text style=\"fill:#000000; fill-opacity:1; font-family:Arial,Helvetica Neue,Helvetica,sans-serif; font-size:48px; text-anchor:middle;\" transform=\"rotate(0, 1841.08, 1479.62)\" x=\"1841.08\" y=\"1479.62\">8</text>\n",
       "</g>\n",
       "<g clip-path=\"url(#clip3200)\">\n",
       "<text style=\"fill:#000000; fill-opacity:1; font-family:Arial,Helvetica Neue,Helvetica,sans-serif; font-size:48px; text-anchor:middle;\" transform=\"rotate(0, 2291.9, 1479.62)\" x=\"2291.9\" y=\"1479.62\">10</text>\n",
       "</g>\n",
       "<g clip-path=\"url(#clip3200)\">\n",
       "<text style=\"fill:#000000; fill-opacity:1; font-family:Arial,Helvetica Neue,Helvetica,sans-serif; font-size:48px; text-anchor:end;\" transform=\"rotate(0, 178.373, 1312.64)\" x=\"178.373\" y=\"1312.64\">60</text>\n",
       "</g>\n",
       "<g clip-path=\"url(#clip3200)\">\n",
       "<text style=\"fill:#000000; fill-opacity:1; font-family:Arial,Helvetica Neue,Helvetica,sans-serif; font-size:48px; text-anchor:end;\" transform=\"rotate(0, 178.373, 1051.32)\" x=\"178.373\" y=\"1051.32\">65</text>\n",
       "</g>\n",
       "<g clip-path=\"url(#clip3200)\">\n",
       "<text style=\"fill:#000000; fill-opacity:1; font-family:Arial,Helvetica Neue,Helvetica,sans-serif; font-size:48px; text-anchor:end;\" transform=\"rotate(0, 178.373, 789.994)\" x=\"178.373\" y=\"789.994\">70</text>\n",
       "</g>\n",
       "<g clip-path=\"url(#clip3200)\">\n",
       "<text style=\"fill:#000000; fill-opacity:1; font-family:Arial,Helvetica Neue,Helvetica,sans-serif; font-size:48px; text-anchor:end;\" transform=\"rotate(0, 178.373, 528.669)\" x=\"178.373\" y=\"528.669\">75</text>\n",
       "</g>\n",
       "<g clip-path=\"url(#clip3200)\">\n",
       "<text style=\"fill:#000000; fill-opacity:1; font-family:Arial,Helvetica Neue,Helvetica,sans-serif; font-size:48px; text-anchor:end;\" transform=\"rotate(0, 178.373, 267.344)\" x=\"178.373\" y=\"267.344\">80</text>\n",
       "</g>\n",
       "<g clip-path=\"url(#clip3200)\">\n",
       "<text style=\"fill:#000000; fill-opacity:1; font-family:Arial,Helvetica Neue,Helvetica,sans-serif; font-size:66px; text-anchor:middle;\" transform=\"rotate(0, 1277.56, 1559.48)\" x=\"1277.56\" y=\"1559.48\">number of timesteps</text>\n",
       "</g>\n",
       "<g clip-path=\"url(#clip3200)\">\n",
       "<text style=\"fill:#000000; fill-opacity:1; font-family:Arial,Helvetica Neue,Helvetica,sans-serif; font-size:66px; text-anchor:middle;\" transform=\"rotate(-90, 89.2861, 736.431)\" x=\"89.2861\" y=\"736.431\">error percentage</text>\n",
       "</g>\n",
       "<polyline clip-path=\"url(#clip3202)\" style=\"stroke:#009af9; stroke-width:4; stroke-opacity:1; fill:none\" points=\"\n",
       "  263.233,1386.61 488.64,623.016 714.047,412.388 939.454,267.614 1164.86,196.534 1390.27,147.405 1615.67,128.589 1841.08,113.432 2066.49,93.5718 2291.9,86.2547 \n",
       "  \n",
       "  \"/>\n",
       "<polygon clip-path=\"url(#clip3200)\" points=\"\n",
       "1989.93,251.724 2280.76,251.724 2280.76,130.764 1989.93,130.764 \n",
       "  \" fill=\"#ffffff\" fill-rule=\"evenodd\" fill-opacity=\"1\"/>\n",
       "<polyline clip-path=\"url(#clip3200)\" style=\"stroke:#000000; stroke-width:4; stroke-opacity:1; fill:none\" points=\"\n",
       "  1989.93,251.724 2280.76,251.724 2280.76,130.764 1989.93,130.764 1989.93,251.724 \n",
       "  \"/>\n",
       "<polyline clip-path=\"url(#clip3200)\" style=\"stroke:#009af9; stroke-width:4; stroke-opacity:1; fill:none\" points=\"\n",
       "  2013.93,191.244 2157.93,191.244 \n",
       "  \"/>\n",
       "<g clip-path=\"url(#clip3200)\">\n",
       "<text style=\"fill:#000000; fill-opacity:1; font-family:Arial,Helvetica Neue,Helvetica,sans-serif; font-size:48px; text-anchor:start;\" transform=\"rotate(0, 2181.93, 208.744)\" x=\"2181.93\" y=\"208.744\">y1</text>\n",
       "</g>\n",
       "</svg>\n"
      ]
     },
     "execution_count": 56,
     "metadata": {},
     "output_type": "execute_result"
    }
   ],
   "source": [
    "# using  Plots\n",
    "Ts = 1:10\n",
    "plot(Ts, [100-100*abuse(dtst,0.2,lenet,T) for T = Ts],\n",
    "    xlabel=\"number of timesteps\", ylabel=\"error percentage\")"
   ]
  },
  {
   "cell_type": "code",
   "execution_count": 55,
   "metadata": {},
   "outputs": [
    {
     "data": {
      "text/plain": [
       "0.4175"
      ]
     },
     "execution_count": 55,
     "metadata": {},
     "output_type": "execute_result"
    }
   ],
   "source": [
    "abuse(dtst,0.2,lenet,1)"
   ]
  },
  {
   "cell_type": "markdown",
   "metadata": {},
   "source": [
    "## Visualize Examples\n",
    "Let's visualize the examples generated by the attack and observe how our model fails."
   ]
  },
  {
   "cell_type": "code",
   "execution_count": 36,
   "metadata": {},
   "outputs": [
    {
     "data": {
      "image/png": "[encoded data removed]",
      "text/plain": [
       "112×672 Array{Gray{Float32},2} with eltype Gray{Float32}:\n",
       " Gray{Float32}(0.0)    Gray{Float32}(0.0)      …  Gray{Float32}(0.0)  \n",
       " Gray{Float32}(0.0)    Gray{Float32}(0.0)         Gray{Float32}(0.0)  \n",
       " Gray{Float32}(0.0)    Gray{Float32}(0.0)         Gray{Float32}(0.0)  \n",
       " Gray{Float32}(0.0)    Gray{Float32}(0.0)         Gray{Float32}(0.0)  \n",
       " Gray{Float32}(0.0)    Gray{Float32}(0.0)         Gray{Float32}(0.0)  \n",
       " Gray{Float32}(0.0)    Gray{Float32}(0.0)      …  Gray{Float32}(0.0)  \n",
       " Gray{Float32}(0.0)    Gray{Float32}(0.0)         Gray{Float32}(0.0)  \n",
       " Gray{Float32}(0.0)    Gray{Float32}(0.0)         Gray{Float32}(0.0)  \n",
       " Gray{Float32}(0.0)    Gray{Float32}(0.0)         Gray{Float32}(0.0)  \n",
       " Gray{Float32}(0.0)    Gray{Float32}(0.0)         Gray{Float32}(0.0)  \n",
       " Gray{Float32}(0.0)    Gray{Float32}(0.0)      …  Gray{Float32}(0.0)  \n",
       " Gray{Float32}(0.0)    Gray{Float32}(0.0)         Gray{Float32}(0.0)  \n",
       " Gray{Float32}(0.0)    Gray{Float32}(0.0)         Gray{Float32}(0.0)  \n",
       " ⋮                                             ⋱                      \n",
       " Gray{Float32}(0.045)  Gray{Float32}(0.05625)  …  Gray{Float32}(0.005)\n",
       " Gray{Float32}(0.08)   Gray{Float32}(0.085)       Gray{Float32}(0.025)\n",
       " Gray{Float32}(0.12)   Gray{Float32}(0.115)       Gray{Float32}(0.075)\n",
       " Gray{Float32}(0.125)  Gray{Float32}(0.11625)     Gray{Float32}(0.075)\n",
       " Gray{Float32}(0.095)  Gray{Float32}(0.08875)     Gray{Float32}(0.025)\n",
       " Gray{Float32}(0.06)   Gray{Float32}(0.05625)  …  Gray{Float32}(0.01) \n",
       " Gray{Float32}(0.02)   Gray{Float32}(0.01875)     Gray{Float32}(0.03) \n",
       " Gray{Float32}(0.005)  Gray{Float32}(0.0075)      Gray{Float32}(0.05) \n",
       " Gray{Float32}(0.015)  Gray{Float32}(0.0225)      Gray{Float32}(0.07) \n",
       " Gray{Float32}(0.04)   Gray{Float32}(0.04125)     Gray{Float32}(0.105)\n",
       " Gray{Float32}(0.08)   Gray{Float32}(0.06375)  …  Gray{Float32}(0.155)\n",
       " Gray{Float32}(0.1)    Gray{Float32}(0.075)       Gray{Float32}(0.18) "
      ]
     },
     "metadata": {},
     "output_type": "display_data"
    }
   ],
   "source": [
    "dtst.batchsize = 12 # to get 12 examples\n",
    "x, y = first(dtst) # use rand to sample random images\n",
    "ϵ = 0.2\n",
    "T = 10\n",
    "history = IterativeFGSM(a->lenet(a, y), ϵ, T, x)\n",
    "x̂ = history[end][1]\n",
    "image, noisy = Array(x), Array(x̂)\n",
    "grid = vcat(\n",
    "        hcat([mnistview(image, i) for i = 1:length(y)]...),\n",
    "        hcat([mnistview(noisy, i) for i = 1:length(y)]...))\n",
    "display(imresize(grid; ratio=2.))"
   ]
  },
  {
   "cell_type": "markdown",
   "metadata": {},
   "source": [
    "Let's see how good our model performs on the real images and the perturbed images."
   ]
  },
  {
   "cell_type": "code",
   "execution_count": 37,
   "metadata": {},
   "outputs": [
    {
     "name": "stdout",
     "output_type": "stream",
     "text": [
      "predictions without the attack: [7 2 1 0 4 1 4 9 5 9 0 6]\n",
      "predictions with the attack:    [2 1 7 0 9 7 8 8 6 7 0 0]\n"
     ]
    }
   ],
   "source": [
    "predict(x) = map(xi->rem(xi[1],10), argmax(Array(lenet(x)), dims=1))\n",
    "print(\"predictions without the attack: \"); println(predict(x))\n",
    "print(\"predictions with the attack:    \"); println(predict(x̂))"
   ]
  },
  {
   "cell_type": "code",
   "execution_count": null,
   "metadata": {},
   "outputs": [],
   "source": []
  }
 ],
 "metadata": {
  "kernelspec": {
   "display_name": "Julia 1.1.0",
   "language": "julia",
   "name": "julia-1.1"
  },
  "language_info": {
   "file_extension": ".jl",
   "mimetype": "application/julia",
   "name": "julia",
   "version": "1.1.0"
  }
 },
 "nbformat": 4,
 "nbformat_minor": 2
}
